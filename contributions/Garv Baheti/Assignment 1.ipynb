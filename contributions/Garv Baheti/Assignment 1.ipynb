{
 "cells": [
  {
   "cell_type": "markdown",
   "metadata": {},
   "source": [
    "1. Mr.Ramesh  has  purchased  a  rectangular-shaped  land  that  is  150  m  in  length  and 200 m in breadth. Calculate the area of the land."
   ]
  },
  {
   "cell_type": "code",
   "execution_count": 1,
   "metadata": {},
   "outputs": [
    {
     "name": "stdout",
     "output_type": "stream",
     "text": [
      "Enter Length  (in m):150\n",
      "Enter Breadth (in m):200\n",
      "30000.0 meters sq.\n"
     ]
    }
   ],
   "source": [
    "length=float(input('Enter Length  (in m):'))\n",
    "breadth=float(input('Enter Breadth (in m):'))\n",
    "area= length*breadth\n",
    "area=str(area)\n",
    "ans= area + ' meters sq.'\n",
    "print(ans)"
   ]
  },
  {
   "cell_type": "markdown",
   "metadata": {},
   "source": [
    "2. Find whether a number y is a factor of number x"
   ]
  },
  {
   "cell_type": "code",
   "execution_count": 2,
   "metadata": {},
   "outputs": [
    {
     "name": "stdout",
     "output_type": "stream",
     "text": [
      "Enter x:12\n",
      "Enter y:2\n",
      "y is a factor of x\n"
     ]
    }
   ],
   "source": [
    "x=int(input('Enter x:'))\n",
    "y=int(input('Enter y:'))\n",
    "m = x%y\n",
    "if(m==0):\n",
    "    print(\"y is a factor of x\")\n",
    "else:\n",
    "    print(\"y is not a factor of x\")"
   ]
  },
  {
   "cell_type": "markdown",
   "metadata": {},
   "source": [
    "3. One  way  to  determine  whether  an  integer  is  even  is  to  divide  the number  by 2 and check  the  remainder.  Write  a  three-line  program  that  prompts  for  a number, converts  the  input  to  an  integer,  and  prints  a  0  if  the  number  is  even  and  a  1if the number is  odd"
   ]
  },
  {
   "cell_type": "code",
   "execution_count": 3,
   "metadata": {},
   "outputs": [
    {
     "name": "stdout",
     "output_type": "stream",
     "text": [
      "Enter a No.:26\n",
      "0\n"
     ]
    }
   ],
   "source": [
    "x=int(input('Enter a No.:'))\n",
    "m=x%2\n",
    "if(m==0):\n",
    "    print(\"0\")\n",
    "else:\n",
    "    print(\"1\")"
   ]
  },
  {
   "cell_type": "markdown",
   "metadata": {},
   "source": [
    "4. Write  a  program  to  calculate  the  volume  of  water  in  liters  when  1 centimeter  of waterfalls on 1 hectare"
   ]
  },
  {
   "cell_type": "code",
   "execution_count": 4,
   "metadata": {},
   "outputs": [
    {
     "name": "stdout",
     "output_type": "stream",
     "text": [
      "Enter Area in hectares:1\n",
      "Enter Water Falled in centimeter:1\n",
      "100000.0 Liters\n"
     ]
    }
   ],
   "source": [
    "area=int(input('Enter Area in hectares:'))\n",
    "waterFalling=int(input('Enter Water Falled in centimeter:'))\n",
    "x=area*10000\n",
    "y=waterFalling/100\n",
    "vol=x*y\n",
    "ans=vol*1000\n",
    "ans=str(ans)\n",
    "final=ans+' Liters'\n",
    "print(final)"
   ]
  },
  {
   "cell_type": "markdown",
   "metadata": {},
   "source": [
    "5. A day has 86,400 secs (24X60X60). Given a number in the range 1 to 86,400, out put the current  time  as  hours,  minutes,  and  seconds  with  a  24-hour  clock.  For  example:70,000 sec is 19 hours, 26 minutes, and 40 seconds"
   ]
  },
  {
   "cell_type": "code",
   "execution_count": 5,
   "metadata": {},
   "outputs": [
    {
     "name": "stdout",
     "output_type": "stream",
     "text": [
      "Enter a number between 0 and 86400: 70000\n",
      "The time is 19 hours, 26 minutes, and 40 seconds.\n"
     ]
    }
   ],
   "source": [
    "total_time = int(input(\"Enter a number between 0 and 86400: \"))\n",
    "\n",
    "hours = int(total_time / 3600.0)\n",
    "\n",
    "minutes = int((total_time - (hours * 3600.0)) / 60.0)\n",
    "\n",
    "seconds = int(((total_time) - (hours * 3600) - (minutes * 60)))\n",
    "\n",
    "print(\"The time is %d hours, %d minutes, and %d seconds.\" % (hours, minutes, seconds))"
   ]
  },
  {
   "cell_type": "markdown",
   "metadata": {},
   "source": [
    "6. A  telephone  directory  has N lines  on  each  page  and  each  page  has  exactly C columns.An  entry  in  any  column  has  a  name  with  the  corresponding  telephone number.  Onwhich  page,  column,  and  line  is  the Xth  entry  (name  and  number) present? (Assumethat page,line, column numbers, and X all start from 1.)"
   ]
  },
  {
   "cell_type": "code",
   "execution_count": 1,
   "metadata": {},
   "outputs": [
    {
     "name": "stdout",
     "output_type": "stream",
     "text": [
      "Enter number of lines on each page: 10\n",
      "Enter number of columns on each page: 5\n",
      "Enter entry number to search: 2\n",
      "It is present on page 1 ,column 1 and line 2\n"
     ]
    }
   ],
   "source": [
    "n=int(input(\"Enter number of lines on each page: \"))\n",
    "c=int(input(\"Enter number of columns on each page: \"))\n",
    "x=int(input(\"Enter entry number to search: \"))\n",
    "page=x//n+1\n",
    "line=x-((page-1)*n)\n",
    "col=1\n",
    "print(\"It is present on page\",page,\",column\",col,\"and line\",line)"
   ]
  },
  {
   "cell_type": "markdown",
   "metadata": {},
   "source": [
    "7. If  the  lengths  of  the  two  parallel  sides  of  a  trapezoid  are X meters  and Y meters,respectively,  and  the  height  is H meters,  what  is  the  area  of  the  trapezoid?Write Pythoncode to output the area"
   ]
  },
  {
   "cell_type": "code",
   "execution_count": 6,
   "metadata": {},
   "outputs": [
    {
     "name": "stdout",
     "output_type": "stream",
     "text": [
      "Enter Side X (in meters):5\n",
      "Enter Side Y (in meters):2\n",
      "Enter Height H (in meters):1\n",
      "3.5 meter square\n"
     ]
    }
   ],
   "source": [
    "x=int(input('Enter Side X (in meters):'))\n",
    "y=int(input('Enter Side Y (in meters):'))\n",
    "h=int(input('Enter Height H (in meters):'))\n",
    "area=(((x+y)/2)*h)\n",
    "area=str(area)\n",
    "ans= area + ' meter square'\n",
    "print(ans)"
   ]
  },
  {
   "cell_type": "markdown",
   "metadata": {},
   "source": [
    "8. Simple interest  is  calculated  by  the  product  of  the  principal,  number  of  years,  andinterest,  all  divided  by  100.  Write code to calculate the simple interest on a principalamount of $10,000 for durationof 5 years with the rate of interest equal to 12.5%"
   ]
  },
  {
   "cell_type": "code",
   "execution_count": 7,
   "metadata": {},
   "outputs": [
    {
     "name": "stdout",
     "output_type": "stream",
     "text": [
      "Enter Principal in $ :10000\n",
      "Enter Rate of Intrest % :12.5\n",
      "Enter Time in years :5\n",
      "$6250.0\n"
     ]
    }
   ],
   "source": [
    "p=float(input('Enter Principal in $ :'))\n",
    "r=float(input('Enter Rate of Intrest % :'))\n",
    "t=float(input('Enter Time in years :'))\n",
    "si=(p*r*t)/100\n",
    "si=str(si)\n",
    "ans='$'+si\n",
    "print(ans)"
   ]
  },
  {
   "cell_type": "markdown",
   "metadata": {},
   "source": [
    "9. Body massindex (BMI) is a number calculated from a person’s weight and height. According  to  the  Centers  for  Disease  Control  and  Prevention,  the  BMI  is  a  fairly reliable  indicator  of  body  fatness  for  most  people.  BMI  does  not  measure  body  fat directly,  but  research  has  shown  that  BMI  correlates  to  direct  measures of body fat, such  as  underwater  weighing  and  dual-energy  X-ray  absorptiometry.  The  formula forBMI is we ight/heightwhere weight is in kilograms and height is in meters.\n",
    "(a)  Write  a  program  that  prompts  for  metric  weight  and  height  and outputs the BMI.\n",
    "(b)  Write  a  program  that  prompts  for  weight  in  pounds  and  height  in  inches, converts the values to metric, and then calculates the BMI"
   ]
  },
  {
   "cell_type": "code",
   "execution_count": 8,
   "metadata": {},
   "outputs": [
    {
     "name": "stdout",
     "output_type": "stream",
     "text": [
      "Enter Height in m: 2\n",
      "Enter Weight in kg: 55\n",
      "27.5\n"
     ]
    }
   ],
   "source": [
    "h=float(input('Enter Height in m: '))\n",
    "w=float(input('Enter Weight in kg: '))\n",
    "bmi=w/h\n",
    "print(bmi)"
   ]
  },
  {
   "cell_type": "code",
   "execution_count": 9,
   "metadata": {},
   "outputs": [
    {
     "name": "stdout",
     "output_type": "stream",
     "text": [
      "Enter Height in inches: 150\n",
      "Enter Weight in pounds: 150\n",
      "17.85795275590551\n"
     ]
    }
   ],
   "source": [
    "h=float(input('Enter Height in inches: '))\n",
    "w=float(input('Enter Weight in pounds: '))\n",
    "height=h*0.025400\n",
    "weight=w*0.453592\n",
    "bmi=weight/height\n",
    "print(bmi)"
   ]
  },
  {
   "cell_type": "code",
   "execution_count": null,
   "metadata": {},
   "outputs": [],
   "source": []
  }
 ],
 "metadata": {
  "kernelspec": {
   "display_name": "Python 3",
   "language": "python",
   "name": "python3"
  },
  "language_info": {
   "codemirror_mode": {
    "name": "ipython",
    "version": 3
   },
   "file_extension": ".py",
   "mimetype": "text/x-python",
   "name": "python",
   "nbconvert_exporter": "python",
   "pygments_lexer": "ipython3",
   "version": "3.8.3"
  }
 },
 "nbformat": 4,
 "nbformat_minor": 4
}

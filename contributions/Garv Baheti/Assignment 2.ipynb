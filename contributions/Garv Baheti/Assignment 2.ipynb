{
 "cells": [
  {
   "cell_type": "markdown",
   "metadata": {},
   "source": [
    "1. Take values of length and breadth of a rectangle from user and check if it is square or not."
   ]
  },
  {
   "cell_type": "code",
   "execution_count": 1,
   "metadata": {},
   "outputs": [
    {
     "name": "stdout",
     "output_type": "stream",
     "text": [
      "Enter Length: 4\n",
      "Enter Breadth: 4\n",
      "It is a Square\n"
     ]
    }
   ],
   "source": [
    "a=float(input(\"Enter Length: \"))\n",
    "b=float(input(\"Enter Breadth: \"))\n",
    "if(a==b):\n",
    "    print(\"It is a Square\")\n",
    "else:\n",
    "    print(\"It is a Rectangle\")"
   ]
  },
  {
   "cell_type": "markdown",
   "metadata": {},
   "source": [
    "2.Take two int values from user and print greatest among them"
   ]
  },
  {
   "cell_type": "code",
   "execution_count": 2,
   "metadata": {},
   "outputs": [
    {
     "name": "stdout",
     "output_type": "stream",
     "text": [
      "Enter Value a: 5\n",
      "Enter Value b: 4\n",
      "a is Greater\n"
     ]
    }
   ],
   "source": [
    "a=int(input(\"Enter Value a: \"))\n",
    "b=int(input(\"Enter Value b: \"))\n",
    "if (a>b):\n",
    "    print(\"a is Greater\")\n",
    "elif(a<b):\n",
    "    print(\"b is greater\")\n",
    "else:\n",
    "    print(\"Both are Equal\")"
   ]
  },
  {
   "cell_type": "markdown",
   "metadata": {},
   "source": [
    "3.A shop will give discount of 10% if the cost of purchased quantity is more than 1000.Ask user for quantitySuppose, one unit will cost 100.Judge and print total cost for user."
   ]
  },
  {
   "cell_type": "code",
   "execution_count": 3,
   "metadata": {},
   "outputs": [
    {
     "name": "stdout",
     "output_type": "stream",
     "text": [
      "Enter Units to be purchased: 11\n",
      "Total Amount is: 990.0\n"
     ]
    }
   ],
   "source": [
    "a=int(input(\"Enter Units to be purchased: \"))\n",
    "b=a*100\n",
    "if(b>1000):\n",
    "    b=b*0.9\n",
    "print(\"Total Amount is:\",b) "
   ]
  },
  {
   "cell_type": "markdown",
   "metadata": {},
   "source": [
    "4. A company decided to give bonus of 5% to employee if his/her year of service is more than 5 years. Ask user for their salary and year ofservice and print the net bonus amount."
   ]
  },
  {
   "cell_type": "code",
   "execution_count": 4,
   "metadata": {},
   "outputs": [
    {
     "name": "stdout",
     "output_type": "stream",
     "text": [
      "Enter Yearly Salary: 50000\n",
      "Enter Years of Service: 6\n",
      "Salary will be:  52500.0\n"
     ]
    }
   ],
   "source": [
    "a=float(input(\"Enter Yearly Salary: \"))\n",
    "b=int(input(\"Enter Years of Service: \"))\n",
    "if(b>5):\n",
    "    a=a+(a*0.05)\n",
    "print(\"Salary will be: \",a)"
   ]
  },
  {
   "cell_type": "markdown",
   "metadata": {},
   "source": [
    "5. A school has following rules for grading system:\n",
    "a. Below 25 -F\n",
    "b. 25 to 45 -E\n",
    "c. 45 to 50 -D\n",
    "d. 50 to 60 -C\n",
    "e. 60 to 80 -B\n",
    "f. Above 80 -A\n",
    "Ask user to enter marks and print the corresponding grade"
   ]
  },
  {
   "cell_type": "code",
   "execution_count": 5,
   "metadata": {},
   "outputs": [
    {
     "name": "stdout",
     "output_type": "stream",
     "text": [
      "Enter Marks: 80\n",
      "Grade is B\n"
     ]
    }
   ],
   "source": [
    "m=float(input(\"Enter Marks: \"))\n",
    "if(m>80):\n",
    "    print(\"Grade is A\")\n",
    "elif(80>=m>60):\n",
    "    print(\"Grade is B\")\n",
    "elif(60>=m>50):\n",
    "    print(\"Grade is C\")\n",
    "elif(50>=m>45):\n",
    "    print(\"Grade is D\")\n",
    "elif(45>=m>25):\n",
    "    print(\"Grade is E\")\n",
    "elif(25>=m):\n",
    "    print(\"Grade is F\")"
   ]
  },
  {
   "cell_type": "markdown",
   "metadata": {},
   "source": [
    "6. Take input of age of 3 people by user and determine oldest and youngest among them."
   ]
  },
  {
   "cell_type": "code",
   "execution_count": 6,
   "metadata": {},
   "outputs": [
    {
     "name": "stdout",
     "output_type": "stream",
     "text": [
      "Enter Age of Person A: 23\n",
      "Enter Age of Person B: 8\n",
      "Enter Age of Person C: 53\n",
      "C is Oldest and B is Youngest\n"
     ]
    }
   ],
   "source": [
    "a=int(input(\"Enter Age of Person A: \"))\n",
    "b=int(input(\"Enter Age of Person B: \"))\n",
    "c=int(input(\"Enter Age of Person C: \"))\n",
    "if(a>b>c):\n",
    "    print(\"A is Oldest and C is Youngest\")\n",
    "if(b>a>c):\n",
    "    print(\"b is Oldest and C is Youngest\")\n",
    "if(c>b>a):\n",
    "    print(\"C is Oldest and A is Youngest\")\n",
    "if(a>c>b):\n",
    "    print(\"A is Oldest and B is Youngest\")\n",
    "if(b>c>a):\n",
    "    print(\"B is Oldest and A is Youngest\")\n",
    "if(c>a>b):\n",
    "    print(\"C is Oldest and B is Youngest\")"
   ]
  },
  {
   "cell_type": "markdown",
   "metadata": {},
   "source": [
    "7. Write a program to print absolute vlaue of a number entered by user. E.g.-\n",
    "INPUT: 1     OUTPUT: 1\n",
    "INPUT: -1    OUTPUT: 1"
   ]
  },
  {
   "cell_type": "code",
   "execution_count": 7,
   "metadata": {},
   "outputs": [
    {
     "name": "stdout",
     "output_type": "stream",
     "text": [
      "Enter Value: -2\n",
      "Absolute Value is:  2.0\n"
     ]
    }
   ],
   "source": [
    "a=float(input(\"Enter Value: \"))\n",
    "if(a<0):\n",
    "    a=a*(-1)\n",
    "print(\"Absolute Value is: \",a)"
   ]
  },
  {
   "cell_type": "markdown",
   "metadata": {},
   "source": [
    "8. A student will not be allowed to sit in exam if his/herattendence is less than 75%.Take following input from userNumber of classes heldNumber of classes attended.And printpercentage of class attendedIs student is allowed to sit in exam or not"
   ]
  },
  {
   "cell_type": "code",
   "execution_count": 8,
   "metadata": {},
   "outputs": [
    {
     "name": "stdout",
     "output_type": "stream",
     "text": [
      "Enter No. of Classes Held: 400\n",
      "Enter No. of Classes Attended: 255\n",
      "Your attendance percent is:  63.74999999999999\n",
      "You are Not allowed to Sit in Exam\n"
     ]
    }
   ],
   "source": [
    "a=int(input(\"Enter No. of Classes Held: \"))\n",
    "b=int(input(\"Enter No. of Classes Attended: \"))\n",
    "c=(b/a)*100\n",
    "print(\"Your attendance percent is: \",c)\n",
    "if(c<75):\n",
    "    print(\"You are Not allowed to Sit in Exam\")\n",
    "else:\n",
    "    print(\"You are allowed to Sit in Exam\")"
   ]
  },
  {
   "cell_type": "markdown",
   "metadata": {},
   "source": [
    "9. Modify the above question to allow student to sit if he/she has medical cause. Ask user if he/she has medical cause or not ( 'Y' or 'N' ) and print accordingly"
   ]
  },
  {
   "cell_type": "code",
   "execution_count": 9,
   "metadata": {},
   "outputs": [
    {
     "name": "stdout",
     "output_type": "stream",
     "text": [
      "Enter No. of Classes Held: 400\n",
      "Enter No. of Classes Attended: 255\n",
      "Any Medical Cause Y/N :y\n",
      "Your attendance percent is:  63.74999999999999\n",
      "You are allowed to Sit in Exam Due to Medical Cause\n"
     ]
    }
   ],
   "source": [
    "a=int(input(\"Enter No. of Classes Held: \"))\n",
    "b=int(input(\"Enter No. of Classes Attended: \"))\n",
    "m=str(input(\"Any Medical Cause Y/N :\"))\n",
    "c=(b/a)*100\n",
    "print(\"Your attendance percent is: \",c)\n",
    "if(c<75):\n",
    "    if(m=='Y'or m=='y'):\n",
    "         print(\"You are allowed to Sit in Exam Due to Medical Cause\")\n",
    "    else:\n",
    "        print(\"You are Not allowed to Sit in Exam\")\n",
    "elif(c>=75):\n",
    "    print(\"You are allowed to Sit in Exam\")"
   ]
  },
  {
   "cell_type": "code",
   "execution_count": null,
   "metadata": {},
   "outputs": [],
   "source": []
  }
 ],
 "metadata": {
  "kernelspec": {
   "display_name": "Python 3",
   "language": "python",
   "name": "python3"
  },
  "language_info": {
   "codemirror_mode": {
    "name": "ipython",
    "version": 3
   },
   "file_extension": ".py",
   "mimetype": "text/x-python",
   "name": "python",
   "nbconvert_exporter": "python",
   "pygments_lexer": "ipython3",
   "version": "3.8.3"
  }
 },
 "nbformat": 4,
 "nbformat_minor": 4
}

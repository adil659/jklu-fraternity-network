{
 "cells": [
  {
   "cell_type": "markdown",
   "metadata": {},
   "source": [
    "1. How many three-digit numbers are divisible by 17? Write a program to print them."
   ]
  },
  {
   "cell_type": "code",
   "execution_count": 9,
   "metadata": {},
   "outputs": [
    {
     "name": "stdout",
     "output_type": "stream",
     "text": [
      "102,119,136,153,170,187,204,221,238,255,272,289,306,323,340,357,374,391,408,425,442,459,476,493,510,527,544,561,578,595,612,629,646,663,680,697,714,731,748,765,782,799,816,833,850,867,884,901,918,935,952,969,986,"
     ]
    }
   ],
   "source": [
    "for a in range(100,1000):\n",
    "    if(a%17==0):\n",
    "        print(a,end=\",\")"
   ]
  },
  {
   "cell_type": "markdown",
   "metadata": {},
   "source": [
    "2. In your own words, describe what the statements continue and break do in loops"
   ]
  },
  {
   "cell_type": "markdown",
   "metadata": {},
   "source": [
    "The break statement terminates the loop containing it. Control of the program flows to the statement immediately after the body of the loop. If the break statement is inside a nested loop (loop inside another loop), the break statement will terminate the innermost loop.\n",
    "The continue statement is used to skip the rest of the code inside a loop for the current iteration only. Loop does not terminate but continues on with the next iteration."
   ]
  },
  {
   "cell_type": "markdown",
   "metadata": {},
   "source": [
    "3. Explain the difference between “is” and “==”. Give an example (different than that used\n",
    "in the chapter) that illustrates items that return False for “is” and True for “==”."
   ]
  },
  {
   "cell_type": "markdown",
   "metadata": {},
   "source": [
    "is will return True if two variables point to the same object, == if the objects referred to by the variables are equal."
   ]
  },
  {
   "cell_type": "code",
   "execution_count": 32,
   "metadata": {},
   "outputs": [
    {
     "data": {
      "text/plain": [
       "True"
      ]
     },
     "execution_count": 32,
     "metadata": {},
     "output_type": "execute_result"
    }
   ],
   "source": [
    "b=[1,2,3]\n",
    "b=a\n",
    "b is a"
   ]
  },
  {
   "cell_type": "code",
   "execution_count": 34,
   "metadata": {},
   "outputs": [
    {
     "data": {
      "text/plain": [
       "True"
      ]
     },
     "execution_count": 34,
     "metadata": {},
     "output_type": "execute_result"
    }
   ],
   "source": [
    "a=[1,2,3]\n",
    "b=[1,2,3]\n",
    "a==b"
   ]
  },
  {
   "cell_type": "code",
   "execution_count": 35,
   "metadata": {},
   "outputs": [
    {
     "data": {
      "text/plain": [
       "False"
      ]
     },
     "execution_count": 35,
     "metadata": {},
     "output_type": "execute_result"
    }
   ],
   "source": [
    "a=[1,2,3]\n",
    "b=[1,2,3]\n",
    "a is b"
   ]
  },
  {
   "cell_type": "code",
   "execution_count": 55,
   "metadata": {},
   "outputs": [
    {
     "data": {
      "text/plain": [
       "True"
      ]
     },
     "execution_count": 55,
     "metadata": {},
     "output_type": "execute_result"
    }
   ],
   "source": [
    "a=256\n",
    "b=256\n",
    "b is a"
   ]
  },
  {
   "cell_type": "markdown",
   "metadata": {},
   "source": [
    " It turns out the reference implementation of Python caches integer objects in the range -5..256 as singleton instances for performance reasons. https://stackoverflow.com/questions/132988/is-there-a-difference-between-and-is"
   ]
  },
  {
   "cell_type": "markdown",
   "metadata": {},
   "source": [
    "4. In an earlier set of exercises, you were asked to calculate one’s BMI. Augment that\n",
    "program by printing out where that BMI fits in the CDC standard weight status\n",
    "categories:\n",
    "BMI Weight Status\n",
    "Below 18.5 Underweight\n",
    "18.5–24.9 Normal\n",
    "25.0–29.9 Overweight\n",
    "30.0 and above Obese"
   ]
  },
  {
   "cell_type": "code",
   "execution_count": 53,
   "metadata": {},
   "outputs": [
    {
     "name": "stdout",
     "output_type": "stream",
     "text": [
      "Enter Height in m: 2\n",
      "Enter Weight in kg: 85\n",
      "21.25\n",
      "Normal\n"
     ]
    }
   ],
   "source": [
    "h=float(input('Enter Height in m: '))\n",
    "w=float(input('Enter Weight in kg: '))\n",
    "bmi=w/(h*h)\n",
    "print(bmi)\n",
    "if (bmi<18.5):\n",
    "    print(\"Underweight\")\n",
    "if(18.5<bmi<24.9):\n",
    "    print(\"Normal\")\n",
    "if(25.0<=bmi<29.9):\n",
    "    print(\"Overweight\")\n",
    "if(bmi>=30.0):\n",
    "    print(\"Obse\")"
   ]
  },
  {
   "cell_type": "code",
   "execution_count": null,
   "metadata": {},
   "outputs": [],
   "source": [
    "5"
   ]
  },
  {
   "cell_type": "code",
   "execution_count": 70,
   "metadata": {},
   "outputs": [
    {
     "name": "stdout",
     "output_type": "stream",
     "text": [
      "enter the num13\n",
      "11\n"
     ]
    }
   ],
   "source": [
    "myvar=int(input(\"enter the num\"))\n",
    "if (myvar % 2==0):\n",
    "    if (myvar**3 != 27):\n",
    "        myvar = myvar+4 # Assignment 1\n",
    "    else:\n",
    "        myvar /= 1.5 # Assignment 2 \n",
    "else: \n",
    "    if (myvar <= 10):\n",
    "        myvar *= 2 # Assignment 3 \n",
    "    else: \n",
    "        myvar -= 2 # Assignment 4 \n",
    "print(myvar)"
   ]
  },
  {
   "cell_type": "markdown",
   "metadata": {},
   "source": [
    "6. Write a for loop that will print “pbil” when “alphebetical” is the input."
   ]
  },
  {
   "cell_type": "code",
   "execution_count": null,
   "metadata": {},
   "outputs": [],
   "source": []
  },
  {
   "cell_type": "markdown",
   "metadata": {},
   "source": [
    "In this exercise you will convert knuts to sickles and galleons (the currency of the Harry\n",
    "Potter novels). Perform the calculation, and print only non-zero values. That is, if there\n",
    "are not enough knuts for there to be one sickle, then “0 sickle” should not be printed.\n",
    "(There are 29 knuts in one sickle and 17 sickles in one galleon.)"
   ]
  },
  {
   "cell_type": "code",
   "execution_count": 95,
   "metadata": {},
   "outputs": [
    {
     "name": "stdout",
     "output_type": "stream",
     "text": [
      "Enter Value in Knuts29\n",
      "1 Sickles, and 0 Knuts.\n"
     ]
    }
   ],
   "source": [
    "a=int(input(\"Enter Value in Knuts\"))\n",
    "galleon=int(a/493)\n",
    "sickles=int((a-(galleon*493))/29)\n",
    "knuts=int(a-(sickles*29)-(galleon*493))\n",
    "if(galleon>0):\n",
    "    print(\"%d Galleon, %d Sickles, and %d Knuts.\" % (galleon, sickles, knuts))\n",
    "elif(galleon<=0 or sickles>0):\n",
    "    print(\"%d Sickles, and %d Knuts.\" % (sickles, knuts))\n",
    "else:\n",
    "    print(\"%d Knuts.\" % (knuts))"
   ]
  },
  {
   "cell_type": "code",
   "execution_count": null,
   "metadata": {},
   "outputs": [],
   "source": [
    "Write a short program that will:\n",
    "\u0002 prompt the user for a number\n",
    "\u0002 print out whether the number is a perfect square\n",
    "\u0002 prompt the user for another number if the input was not a perfect square"
   ]
  },
  {
   "cell_type": "code",
   "execution_count": 40,
   "metadata": {},
   "outputs": [
    {
     "name": "stdout",
     "output_type": "stream",
     "text": [
      "Enter the Number: 66\n",
      "66 is Not a Perfect Square\n",
      "Enter the Number: 4\n",
      "4 is a Perfect Square\n"
     ]
    }
   ],
   "source": [
    "number = int(input(\"Enter the Number: \"))\n",
    "import math\n",
    "root = math.sqrt(number)\n",
    "if int(root) ** 2 == number:\n",
    "    print(number, \"is a Perfect Square\")\n",
    "while int(root) ** 2 != number:\n",
    "    print(number, \"is Not a Perfect Square\")\n",
    "    number = int(input(\"Enter the Number: \"))\n",
    "    root = math.sqrt(number)\n",
    "    if int(root) ** 2 == number:\n",
    "        print(number, \"is a Perfect Square\")"
   ]
  },
  {
   "cell_type": "code",
   "execution_count": null,
   "metadata": {},
   "outputs": [],
   "source": [
    "def is_perfect_square(n):\n",
    "    x = n // 2\n",
    "    y = set([x])\n",
    "    while x * x != n:\n",
    "        x = (x + (n // x)) // 2\n",
    "        if x in y: return False\n",
    "        y.add(x)\n",
    "    return True\n",
    "\n",
    "print(is_perfect_square(8))\n",
    "print(is_perfect_square(9))\n",
    "print(is_perfect_square(100))"
   ]
  },
  {
   "cell_type": "markdown",
   "metadata": {},
   "source": [
    "Sum of consecutive integers\n",
    "(a) Write a program that prompts for an integer—let’s call it X—and then finds the\n",
    "sum of X consecutive integers starting at 1. That is, if X = 5, you will find the sum\n",
    "of 1 + 2 + 3 + 4 + 5 = 15.\n",
    "(b) Modify your program by enclosing your loop in another loop so that you can find\n",
    "consecutive sums. For example, if 5 is entered, you will find five sums of consecutive\n",
    "numbers:\n",
    "1 = 1\n",
    "1+2 = 3\n",
    "1+2+3 = 6\n",
    "1+2+3+4 = 10\n",
    "1+2+3+4+5 = 15\n",
    "Print only each sum, not the arithmetic expression.\n",
    "(c) Modify your program again to only print sums if the sum is divisible by the number\n",
    "of operands. For example, with the sum 1 + 2 + 3 + 4 + 5 = 15, there are five\n",
    "operands and the sum, 15, is divisble by 5, so that sum will be printed. (Do you\n",
    "notice a pattern?)"
   ]
  },
  {
   "cell_type": "code",
   "execution_count": 2,
   "metadata": {},
   "outputs": [
    {
     "name": "stdout",
     "output_type": "stream",
     "text": [
      "enter the number4\n",
      "10\n"
     ]
    }
   ],
   "source": [
    "n=int(input(\"enter the number\"))\n",
    "a=0\n",
    "for i in range(0,n+1):\n",
    "        a=a+i\n",
    "print(a)"
   ]
  },
  {
   "cell_type": "code",
   "execution_count": 4,
   "metadata": {},
   "outputs": [
    {
     "name": "stdout",
     "output_type": "stream",
     "text": [
      "0,1,3,6,10,"
     ]
    }
   ],
   "source": [
    "a=0\n",
    "for i in range(0,n+1):\n",
    "        a=a+i\n",
    "        print(a,end=\",\")"
   ]
  },
  {
   "cell_type": "code",
   "execution_count": 14,
   "metadata": {},
   "outputs": [
    {
     "name": "stdout",
     "output_type": "stream",
     "text": [
      "enter the number28\n",
      "not a sum\n"
     ]
    }
   ],
   "source": [
    "n=int(input(\"enter the number\"))\n",
    "a=0\n",
    "for i in range(0,n+1):\n",
    "        a=a+i\n",
    "if(a%n==0):\n",
    "    print(a)\n",
    "else:\n",
    "    print(\"not a sum\")"
   ]
  },
  {
   "cell_type": "code",
   "execution_count": null,
   "metadata": {},
   "outputs": [],
   "source": []
  }
 ],
 "metadata": {
  "kernelspec": {
   "display_name": "Python 3",
   "language": "python",
   "name": "python3"
  },
  "language_info": {
   "codemirror_mode": {
    "name": "ipython",
    "version": 3
   },
   "file_extension": ".py",
   "mimetype": "text/x-python",
   "name": "python",
   "nbconvert_exporter": "python",
   "pygments_lexer": "ipython3",
   "version": "3.8.3"
  }
 },
 "nbformat": 4,
 "nbformat_minor": 4
}

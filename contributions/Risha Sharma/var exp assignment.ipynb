{
 "cells": [
  {
   "cell_type": "markdown",
   "metadata": {},
   "source": [
    "1.Mr.Ramesh  has  purchased  a  rectangular-shaped  land  that  is  150  m  in  length  and 200 m in breadth. Calculate the area of the land."
   ]
  },
  {
   "cell_type": "code",
   "execution_count": 5,
   "metadata": {},
   "outputs": [
    {
     "name": "stdout",
     "output_type": "stream",
     "text": [
      "Enter Length  (in m):150\n",
      "Enter Breadth (in m):200\n",
      "30000.0 meters sq.\n"
     ]
    }
   ],
   "source": [
    "length=float(input('Enter Length  (in m):'))\n",
    "breadth=float(input('Enter Breadth (in m):'))\n",
    "area= length*breadth\n",
    "area=str(area)\n",
    "ans= area + ' meters sq.'\n",
    "print(ans)"
   ]
  },
  {
   "cell_type": "markdown",
   "metadata": {},
   "source": [
    "2.Find whether a number y is a factor of number x."
   ]
  },
  {
   "cell_type": "code",
   "execution_count": 4,
   "metadata": {},
   "outputs": [
    {
     "name": "stdout",
     "output_type": "stream",
     "text": [
      "enter the first no.3\n",
      "enter the second no.12\n",
      "factor\n"
     ]
    }
   ],
   "source": [
    "first_no=int(input(\"enter the first no.\"))\n",
    "scnd_no=int(input(\"enter the second no.\"))\n",
    "ans=scnd_no%first_no\n",
    "if(ans==0):\n",
    "    print(\"factor\")\n",
    "else:\n",
    "    print(\"not a factor\")"
   ]
  },
  {
   "cell_type": "markdown",
   "metadata": {},
   "source": [
    "3.One  way  to  determine  whether  an  integer  is  even  is  to  divide  thenumber  by 2 and check  the  remainder.  Write  a  three-line  program  that  prompts  for  anumber, converts  the  input  to  an  integer,  and  prints  a  0  if  the  number  is  even  and  a  1if the number is  odd."
   ]
  },
  {
   "cell_type": "code",
   "execution_count": 1,
   "metadata": {},
   "outputs": [
    {
     "name": "stdout",
     "output_type": "stream",
     "text": [
      "enter the first no.16\n",
      "even number\n",
      "0\n"
     ]
    }
   ],
   "source": [
    "first_no=int(input(\"enter the first no.\"))\n",
    "if(first_no%2==0):\n",
    "    print('even number')\n",
    "    print('0')\n",
    "else:\n",
    "    print('odd number')\n",
    "    print('1')\n"
   ]
  },
  {
   "cell_type": "markdown",
   "metadata": {},
   "source": [
    "4.Write  a  program  to  calculate  the  volume  of  water  in  liters  when  1 centimeter  of waterfalls on 1 hectare."
   ]
  },
  {
   "cell_type": "code",
   "execution_count": 1,
   "metadata": {},
   "outputs": [
    {
     "name": "stdout",
     "output_type": "stream",
     "text": [
      "enter area in hectare10000\n",
      "enter water falled in cm1\n",
      "1000000000.0  l\n"
     ]
    }
   ],
   "source": [
    "area_in_hectare=int(input(\"enter area in hectare\"))\n",
    "water_input=int(input(\"enter water falled in cm\"))\n",
    "total_area=area_in_hectare*10000\n",
    "total_water=water_input/100\n",
    "vol=total_water*total_area*1000\n",
    "print(vol,\" l\")"
   ]
  },
  {
   "cell_type": "markdown",
   "metadata": {},
   "source": [
    "5.A day has 86,400 secs (24*60*60). Given a number in the range 1 to 86,400, outputthe current  time  as  hours,  minutes,  and  seconds  with  a  24-hour  clock.  For  example:70,000 sec is 19 hours, 26 minutes, and 40 seconds."
   ]
  },
  {
   "cell_type": "code",
   "execution_count": 5,
   "metadata": {},
   "outputs": [
    {
     "name": "stdout",
     "output_type": "stream",
     "text": [
      "Enter a number between 0 and 86400: 70000\n",
      "The time is 19 hours, 26 minutes, and 40 seconds.\n"
     ]
    }
   ],
   "source": [
    "total_time = int(input(\"Enter a number between 0 and 86400: \"))\n",
    "hours = int(total_time / 3600.0)\n",
    "minutes = int((total_time - (hours * 3600.0)) / 60.0)\n",
    "seconds = int(((total_time) - (hours * 3600) - (minutes * 60)))\n",
    "print(\"The time is %d hours, %d minutes, and %d seconds.\" % (hours, minutes, seconds))"
   ]
  },
  {
   "cell_type": "markdown",
   "metadata": {},
   "source": [
    "6.A  telephone  directory  has N lines  on  each  page  and  each  page  has  exactly C columns.An  entry  in  any  column  has  a  name  with  the  corresponding  telephone number.  Onwhich  page,  column,  and  line  is  the Xth  entry  (name  and  number) present? (Assumethat page,line, column numbers, and X all start from 1.)"
   ]
  },
  {
   "cell_type": "code",
   "execution_count": 17,
   "metadata": {},
   "outputs": [
    {
     "name": "stdout",
     "output_type": "stream",
     "text": [
      "enter number of lines on each page10\n",
      "enter number of columns on each page2\n",
      "enter entry number to search53\n",
      "it is present on page 3 ,column 2 and line 3\n"
     ]
    }
   ],
   "source": [
    "n=int(input(\"enter number of lines on each page\"))\n",
    "c=int(input(\"enter number of columns on each page\"))\n",
    "x=int(input(\"enter entry number to search\"))\n",
    "page=(x//(n*c))+1\n",
    "if(x%(n*c)==0):\n",
    "    page=page-1\n",
    "    if(x==(n*c)):\n",
    "        col=x//n\n",
    "        line=x//c\n",
    "    else:\n",
    "        col=x//n-((page-1)*c)\n",
    "        line=(int((x//c)/page))\n",
    "else:\n",
    "    col=(x//n)+1-((page-1)*c)\n",
    "    line=x-((x//n)*n)\n",
    "print(\"it is present on page\",page,\",column\",col,\"and line\",line)\n"
   ]
  },
  {
   "cell_type": "markdown",
   "metadata": {},
   "source": [
    "7.If  the  lengths  of  the  two  parallel  sides  of  a  trapezoid  are X meters  and Y meters,respectively,  and  the  height  is H meters,  what  is  the  area  of  the  trapezoid?Write Pythoncode to output the area."
   ]
  },
  {
   "cell_type": "code",
   "execution_count": 6,
   "metadata": {},
   "outputs": [
    {
     "name": "stdout",
     "output_type": "stream",
     "text": [
      "Enter Side X (in meters):2\n",
      "Enter Side Y (in meters):4\n",
      "Enter Height H (in meters):6\n",
      "18.0 meter square\n"
     ]
    }
   ],
   "source": [
    "x=int(input('Enter Side X (in meters):'))\n",
    "y=int(input('Enter Side Y (in meters):'))\n",
    "h=int(input('Enter Height H (in meters):'))\n",
    "area=(((x+y)/2)*h)\n",
    "area=str(area)\n",
    "ans= area + ' meter square'\n",
    "print(ans)"
   ]
  },
  {
   "cell_type": "markdown",
   "metadata": {},
   "source": [
    "8.Simple interest  is  calculated  by  the  product  of  the  principal,  number  of  years,  andinterest,  all  divided  by  100.  Write code to calculate the simple interest on a principalamount of $10,000 for durationof 5 years with the rate of interest equal to 12.5%."
   ]
  },
  {
   "cell_type": "code",
   "execution_count": 6,
   "metadata": {},
   "outputs": [
    {
     "name": "stdout",
     "output_type": "stream",
     "text": [
      "simple interest is 6250.0\n",
      "amount is 16250.0\n"
     ]
    }
   ],
   "source": [
    "principal=10000\n",
    "rate=12.5\n",
    "time=5 \n",
    "i=(principal*rate*time)/100\n",
    "a=principal+i\n",
    "i=str(i)\n",
    "a=str(a)\n",
    "print(\"simple interest is \"+i)\n",
    "print(\"amount is \"+a)"
   ]
  },
  {
   "cell_type": "markdown",
   "metadata": {},
   "source": [
    "9.Body massindex (BMI) is a number calculated from a person’s weight and height. According  to  the  Centers  for  Disease  Control  and  Prevention,  the  BMI  is  a  fairly reliable  indicator  of  body  fatness  for  most  people.  BMI  does  not  measure  body  fat directly,  but  research  has  shown  that  BMI  correlates  to  direct  measures of body fat, such  as  underwater  weighing  and  dual-energy  X-ray  absorptiometry.  The  formula forBMI is we ight/heightwhere weight is in kilograms and height is in meters.(a)  Write  a  program  that  prompts  for  metric  weight  and  height  and outputs the BMI.(b)  Write  a  program  that  prompts  for  weight  in  pounds  and  height  in  inches, converts the values to metric, and then calculates the BMI."
   ]
  },
  {
   "cell_type": "code",
   "execution_count": 7,
   "metadata": {},
   "outputs": [
    {
     "name": "stdout",
     "output_type": "stream",
     "text": [
      "enter weight in kgs60\n",
      "enter height in metres1.52\n",
      "body mass index 39.473684210526315\n",
      "body mass index 2.210420437951911\n"
     ]
    }
   ],
   "source": [
    "a=float(input(\"enter weight in kgs\"))\n",
    "b=float(input(\"enter height in metres\"))\n",
    "bmi=a/b\n",
    "bmi=str(bmi)\n",
    "print(\"body mass index \"+bmi)\n",
    "\n",
    "c=a*2.20462\n",
    "d=b*39.3701\n",
    "bmi=c/d\n",
    "bmi=str(bmi)\n",
    "print(\"body mass index \"+bmi)"
   ]
  }
 ],
 "metadata": {
  "kernelspec": {
   "display_name": "Python 3",
   "language": "python",
   "name": "python3"
  },
  "language_info": {
   "codemirror_mode": {
    "name": "ipython",
    "version": 3
   },
   "file_extension": ".py",
   "mimetype": "text/x-python",
   "name": "python",
   "nbconvert_exporter": "python",
   "pygments_lexer": "ipython3",
   "version": "3.8.3"
  }
 },
 "nbformat": 4,
 "nbformat_minor": 4
}

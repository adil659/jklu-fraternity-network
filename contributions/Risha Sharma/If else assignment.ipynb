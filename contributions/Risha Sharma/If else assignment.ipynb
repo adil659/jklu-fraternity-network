{
 "cells": [
  {
   "cell_type": "markdown",
   "metadata": {},
   "source": [
    "1.Take values of length and breadth of a rectangle from user and check if it is square or not."
   ]
  },
  {
   "cell_type": "code",
   "execution_count": 10,
   "metadata": {},
   "outputs": [
    {
     "name": "stdout",
     "output_type": "stream",
     "text": [
      "enter the length 10\n",
      "enter the breadth 6\n",
      "it is a rectangle\n"
     ]
    }
   ],
   "source": [
    "length=float(input(\"enter the length \"))\n",
    "breadth=float(input(\"enter the breadth \"))\n",
    "if(length==breadth):\n",
    "    print(\"it is a square\")\n",
    "else:\n",
    "    print(\"it is a rectangle\")\n",
    "    "
   ]
  },
  {
   "cell_type": "markdown",
   "metadata": {},
   "source": [
    "2.Take two int values from user and print greatest among them."
   ]
  },
  {
   "cell_type": "code",
   "execution_count": 6,
   "metadata": {},
   "outputs": [
    {
     "name": "stdout",
     "output_type": "stream",
     "text": [
      "enter the first no 10\n",
      "enter the second no 5\n",
      "10 is greater\n"
     ]
    }
   ],
   "source": [
    "first=int(input(\"enter the first no \"))\n",
    "second=int(input(\"enter the second no \"))\n",
    "if(first>second):\n",
    "    print(first,\"is greater\")\n",
    "elif(first==second):\n",
    "    print(\"both the no are equal\")\n",
    "else:\n",
    "    print(second,\"is greater\")\n"
   ]
  },
  {
   "cell_type": "markdown",
   "metadata": {},
   "source": [
    "3.A shop will give discount of 10% if the cost of purchased quantity is more than 1000.Ask user for quantity Suppose, one unit will cost 100.Judge and print total cost for user."
   ]
  },
  {
   "cell_type": "code",
   "execution_count": 1,
   "metadata": {},
   "outputs": [
    {
     "name": "stdout",
     "output_type": "stream",
     "text": [
      "enter the quantity of product 15\n",
      "total cost of the product is:  1350.0\n"
     ]
    }
   ],
   "source": [
    "\n",
    "quan=int(input(\"enter the quantity of product \"))\n",
    "price=100*quan\n",
    "if(price>1000):\n",
    "    price=price*0.9\n",
    "print(\"total cost of the product is: \",price)\n",
    "    "
   ]
  },
  {
   "cell_type": "markdown",
   "metadata": {},
   "source": [
    "4.A company decided to give bonus of 5% to employee if his/her year of service is more than 5 years. Ask user for their salary and year ofservice and print the net bonus amount"
   ]
  },
  {
   "cell_type": "code",
   "execution_count": 9,
   "metadata": {},
   "outputs": [
    {
     "name": "stdout",
     "output_type": "stream",
     "text": [
      "enter the salary of the user10000\n",
      "enter the years of service7\n",
      "the net bonus amount is 10500.0\n"
     ]
    }
   ],
   "source": [
    "sal=float(input(\"enter the salary of the user\"))\n",
    "year=int(input(\"enter the years of service\"))\n",
    "if(year>5):\n",
    "    sal=sal+sal*0.05\n",
    "    print(\"the net bonus amount is\",sal)\n",
    "else:\n",
    "    print(\"salary will be\",sal)"
   ]
  },
  {
   "cell_type": "markdown",
   "metadata": {},
   "source": [
    "5.A school has following rules for grading system:\n",
    "a. Below 25 -F\n",
    "b. 25 to 45 -E\n",
    "c. 45 to 50 -D\n",
    "d. 50 to 60 -C\n",
    "e. 60 to 80 -B\n",
    "f. Above 80 -A\n",
    "Ask user to enter marks and print the corresponding grade."
   ]
  },
  {
   "cell_type": "code",
   "execution_count": 15,
   "metadata": {},
   "outputs": [
    {
     "name": "stdout",
     "output_type": "stream",
     "text": [
      "enter the marks obtained78\n",
      "grade obtained, B\n"
     ]
    }
   ],
   "source": [
    "marks=float(input(\"enter the marks obtained\"))\n",
    "if(marks<=25):\n",
    "    print(\"grade obtained, F\")\n",
    "elif(45>=marks>25):\n",
    "    print(\"grade obtained, E\")\n",
    "elif(50>=marks>45):\n",
    "    print(\"grade obtained, D\")\n",
    "elif(60>=marks>50):\n",
    "    print(\"grade obtained, C\")\n",
    "elif(80>=marks>60):\n",
    "    print(\"grade obtained, B\")\n",
    "elif(marks>80):\n",
    "    print(\"grade obtained, A\")\n",
    "    \n",
    "\n",
    "\n",
    "\n",
    "    \n",
    "    \n",
    "    "
   ]
  },
  {
   "cell_type": "markdown",
   "metadata": {},
   "source": [
    "6.Take input of age of 3 people by user and determine oldest and youngest among them."
   ]
  },
  {
   "cell_type": "code",
   "execution_count": 17,
   "metadata": {},
   "outputs": [
    {
     "name": "stdout",
     "output_type": "stream",
     "text": [
      "Enter Age of Person A: 23\n",
      "Enter Age of Person B: 8\n",
      "Enter Age of Person C: 56\n",
      "C is Oldest and B is Youngest\n"
     ]
    }
   ],
   "source": [
    "a=int(input(\"Enter Age of Person A: \"))\n",
    "b=int(input(\"Enter Age of Person B: \"))\n",
    "c=int(input(\"Enter Age of Person C: \"))\n",
    "if(a>b>c):\n",
    "    print(\"A is Oldest and C is Youngest\")\n",
    "if(b>a>c):\n",
    "    print(\"B is Oldest and C is Youngest\")\n",
    "if(c>b>a):\n",
    "    print(\"C is Oldest and A is Youngest\")\n",
    "if(a>c>b):\n",
    "    print(\"A is Oldest and B is Youngest\")\n",
    "if(b>c>a):\n",
    "    print(\"B is Oldest and A is Youngest\")\n",
    "if(c>a>b):\n",
    "    print(\"C is Oldest and B is Youngest\") "
   ]
  },
  {
   "cell_type": "markdown",
   "metadata": {},
   "source": [
    "7.Write a program to print absolute vlaue of a number entered by user. \n",
    "E.g.-INPUT: 1 OUTPUT: 1 \n",
    "     INPUT:-1 OUTPUT: 1"
   ]
  },
  {
   "cell_type": "code",
   "execution_count": 18,
   "metadata": {},
   "outputs": [
    {
     "name": "stdout",
     "output_type": "stream",
     "text": [
      "enter the number-04\n",
      "the absolute value 4.0\n"
     ]
    }
   ],
   "source": [
    "no=float(input(\"enter the number\"))\n",
    "if(no<0):\n",
    "    no=no*(-1)\n",
    "    print(\"the absolute value\",no)\n",
    "else:\n",
    "     print(\"the absolute value\",no)"
   ]
  },
  {
   "cell_type": "markdown",
   "metadata": {},
   "source": [
    "8.A student will not be allowed to sit in exam if his/herattendence is less than 75%.Take following input from user\n",
    "Number of classes held\n",
    "Number of classes attended.\n",
    "And print percentage of class attended\n",
    "Is student is allowed to sit in exam or not."
   ]
  },
  {
   "cell_type": "code",
   "execution_count": 19,
   "metadata": {},
   "outputs": [
    {
     "name": "stdout",
     "output_type": "stream",
     "text": [
      "enter the number of class held 15\n",
      "enter the number of class attended8\n",
      " the percentage of class attended  53.333333333333336  student is not allowed to sit in exams\n"
     ]
    }
   ],
   "source": [
    "held=(int(input(\"enter the number of class held \")))\n",
    "att=(int(input(\"enter the number of class attended\")))\n",
    "per=(att/held)*100\n",
    "if(per>=75):\n",
    "    print(\" the percentage of class attended \",per,\" student is allowed to sit in exams\")\n",
    "else:\n",
    "    print(\" the percentage of class attended \",per,\" student is not allowed to sit in exams\")"
   ]
  },
  {
   "cell_type": "markdown",
   "metadata": {},
   "source": [
    "9.Modify the above question to allow student to sit if he/she has medical cause. Ask user if he/she has medical cause or not ( 'Y' or 'N' ) and print accordingly."
   ]
  },
  {
   "cell_type": "code",
   "execution_count": 24,
   "metadata": {},
   "outputs": [
    {
     "name": "stdout",
     "output_type": "stream",
     "text": [
      "Enter No. of Classes Held: 400\n",
      "Enter No. of Classes Attended: 23\n",
      "Any Medical Cause Y/N :Y\n",
      "Your attendance percent is:  5.75\n",
      "You are allowed to Sit in Exam Due to Medical Cause\n"
     ]
    }
   ],
   "source": [
    "a=int(input(\"Enter No. of Classes Held: \"))\n",
    "b=int(input(\"Enter No. of Classes Attended: \"))\n",
    "m=str(input(\"Any Medical Cause Y/N :\"))\n",
    "c=(b/a)*100\n",
    "print(\"Your attendance percent is: \",c)\n",
    "if(c<75):\n",
    "    if(m=='Y'or m=='y'):\n",
    "         print(\"You are allowed to Sit in Exam Due to Medical Cause\")\n",
    "    else:\n",
    "        print(\"You are Not allowed to Sit in Exam\")\n",
    "elif(c>=75):\n",
    "    print(\"You are allowed to Sit in Exam\")\n"
   ]
  },
  {
   "cell_type": "code",
   "execution_count": null,
   "metadata": {},
   "outputs": [],
   "source": []
  }
 ],
 "metadata": {
  "kernelspec": {
   "display_name": "Python 3",
   "language": "python",
   "name": "python3"
  },
  "language_info": {
   "codemirror_mode": {
    "name": "ipython",
    "version": 3
   },
   "file_extension": ".py",
   "mimetype": "text/x-python",
   "name": "python",
   "nbconvert_exporter": "python",
   "pygments_lexer": "ipython3",
   "version": "3.8.3"
  }
 },
 "nbformat": 4,
 "nbformat_minor": 4
}
